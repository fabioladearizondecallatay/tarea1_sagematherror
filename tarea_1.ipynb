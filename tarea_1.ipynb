{
 "cells": [
  {
   "cell_type": "code",
   "execution_count": 21,
   "metadata": {
    "collapsed": false
   },
   "outputs": [
    {
     "name": "stdout",
     "output_type": "stream",
     "text": [
      "El resultado en numero racional y en aproximacion decimal es : 7/8 , 0.875\n"
     ]
    }
   ],
   "source": [
    "from sage.rings.rational import Rational\n",
    "\n",
    "rational_result = Rational(28) / (2^5)\n",
    "\n",
    "decimal_result = float(rational_result)\n",
    "\n",
    "print (\"El resultado en numero racional y en aproximacion decimal es :\" ,rational_result,\",\", decimal_result)\n"
   ]
  },
  {
   "cell_type": "code",
   "execution_count": 24,
   "metadata": {
    "collapsed": false
   },
   "outputs": [
    {
     "name": "stdout",
     "output_type": "stream",
     "text": [
      "La raiz cuadrada de 2 es : 1.4142135623730951\n"
     ]
    }
   ],
   "source": [
    "from math import sqrt \n",
    "approximation = sqrt(2)\n",
    "print (\"La raiz cuadrada de 2 es :\" , approximation)"
   ]
  },
  {
   "cell_type": "code",
   "execution_count": 26,
   "metadata": {
    "collapsed": false
   },
   "outputs": [
    {
     "name": "stdout",
     "output_type": "stream",
     "text": [
      "La raiz cuadrada de -9 es : 3j\n"
     ]
    }
   ],
   "source": [
    "from math import sqrt \n",
    "import cmath\n",
    "\n",
    "numero = CC(-Integer(9))\n",
    "\n",
    "raiz_cuadrada = cmath.sqrt(numero)\n",
    "print (\"La raiz cuadrada de -9 es :\" , raiz_cuadrada)"
   ]
  },
  {
   "cell_type": "code",
   "execution_count": 27,
   "metadata": {
    "collapsed": false
   },
   "outputs": [
    {
     "name": "stdout",
     "output_type": "stream",
     "text": [
      "El logaritmo en base 3 del numero es : 51\n"
     ]
    }
   ],
   "source": [
    "number = 2153693963075557766310747\n",
    "\n",
    "log_base_3 = log(number, 3)\n",
    "\n",
    "print(\"El logaritmo en base 3 del numero es :\", log_base_3) "
   ]
  },
  {
   "cell_type": "code",
   "execution_count": 28,
   "metadata": {
    "collapsed": false
   },
   "outputs": [
    {
     "name": "stdout",
     "output_type": "stream",
     "text": [
      "Las 50 primeras cifras decimales del número e son : 2.7182818284590452353602874713526624977572470937000\n"
     ]
    }
   ],
   "source": [
    "from sage.all import *\n",
    "\n",
    "e_decimal = n(exp(1), digits=50)\n",
    "print (\"Las 50 primeras cifras decimales del número e son :\" , e_decimal)"
   ]
  },
  {
   "cell_type": "code",
   "execution_count": 18,
   "metadata": {
    "collapsed": false
   },
   "outputs": [
    {
     "name": "stdout",
     "output_type": "stream",
     "text": [
      "Las 80 primeras cifras decimales del número π son : 3.141592653589793238462643383279502884197169399375105820974944592307816406286209\n"
     ]
    }
   ],
   "source": [
    "from mpmath import mp\n",
    "mp.dps = 80\n",
    "pi = mp.pi\n",
    "pi_digits = str(pi)\n",
    "print (\"Las 80 primeras cifras decimales del número π son :\", pi_digits)"
   ]
  },
  {
   "cell_type": "code",
   "execution_count": 29,
   "metadata": {
    "collapsed": false
   },
   "outputs": [
    {
     "name": "stdout",
     "output_type": "stream",
     "text": [
      "El cociente es: 9\n",
      "El resto es: 74\n"
     ]
    }
   ],
   "source": [
    "dividendo = 956\n",
    "divisor = 98\n",
    "\n",
    "cociente, resto = dividendo.quo_rem(divisor)\n",
    "\n",
    "print(\"El cociente es:\", cociente)\n",
    "print(\"El resto es:\", resto)"
   ]
  },
  {
   "cell_type": "code",
   "execution_count": 32,
   "metadata": {
    "collapsed": false
   },
   "outputs": [
    {
     "name": "stdout",
     "output_type": "stream",
     "text": [
      "Con la prueba de Euclide es : True\n"
     ]
    }
   ],
   "source": [
    "dividendo = 956\n",
    "divisor = 98\n",
    "\n",
    "cociente = dividendo // divisor\n",
    "resto = dividendo % divisor\n",
    "\n",
    "# para verificar con la prueba de Euclides\n",
    "verificacion = divisor * cociente + resto == dividendo\n",
    "\n",
    "print (\"Con la prueba de Euclide es :\" ,verificacion)"
   ]
  },
  {
   "cell_type": "code",
   "execution_count": 35,
   "metadata": {
    "collapsed": false
   },
   "outputs": [
    {
     "name": "stdout",
     "output_type": "stream",
     "text": [
      "Divide 3 a 23478? : False\n"
     ]
    }
   ],
   "source": [
    "n = 234878\n",
    "\n",
    "result = n % 3 == 0\n",
    "\n",
    "print(\"Divide 3 a 23478? :\", result)"
   ]
  },
  {
   "cell_type": "code",
   "execution_count": 46,
   "metadata": {
    "collapsed": false
   },
   "outputs": [
    {
     "name": "stdout",
     "output_type": "stream",
     "text": [
      "Los divisores de 134 son : [1, 2, 67, 134] \n",
      "Los divisores de 491 son :  [1, 491] \n",
      "Los divisores de 422 son : [1, 2, 211, 422] \n",
      "Los divisores de 1002 son : [1, 2, 3, 6, 167, 334, 501, 1002]\n"
     ]
    }
   ],
   "source": [
    "def lista_divisores(numero):\n",
    "    divisores = []\n",
    "    for i in range(1, numero + 1):\n",
    "        if numero % i == 0:\n",
    "            divisores.append(i)\n",
    "    return divisores\n",
    "\n",
    "print (\"Los divisores de 134 son :\",lista_divisores(134),\"\\nLos divisores de 491 son : \",lista_divisores(491),\"\\nLos divisores de 422 son :\",lista_divisores(422),\"\\nLos divisores de 1002 son :\",lista_divisores(1002) )"
   ]
  },
  {
   "cell_type": "code",
   "execution_count": 48,
   "metadata": {
    "collapsed": false
   },
   "outputs": [
    {
     "name": "stdout",
     "output_type": "stream",
     "text": [
      "Los divisores de 134 son : [1, 2, 67, 134]\n",
      "134 es primo.\n",
      "Los divisores de 491 son : [1, 491]\n",
      "491 es primo.\n",
      "Los divisores de 422 son : [1, 2, 211, 422]\n",
      "422 es primo.\n",
      "Los divisores de 1002 son : [1, 2, 3, 6, 167, 334, 501, 1002]\n",
      "1002 es primo.\n"
     ]
    }
   ],
   "source": [
    "def lista_divisores(numero):\n",
    "    divisores = []\n",
    "    for i in range(1, numero+1):\n",
    "        if numero % i == 0:\n",
    "            divisores.append(i)\n",
    "    return divisores\n",
    "\n",
    "# Lista de números\n",
    "numeros = [134, 491, 422, 1002]\n",
    "\n",
    "# Calcular divisores y verificar si son primos\n",
    "for numero in numeros:\n",
    "    divisores = lista_divisores(numero)\n",
    "    es_primo = True\n",
    "    for divisor in divisores:\n",
    "        if divisor != 1 and divisor != numero and divisor % numero == 0:\n",
    "            es_primo = False\n",
    "            break\n",
    "    print(\"Los divisores de\", numero, \"son :\", divisores)\n",
    "    if es_primo:\n",
    "        print(numero, \"es primo.\")\n",
    "    else:\n",
    "        print(numero, \"no es primo.\")"
   ]
  },
  {
   "cell_type": "code",
   "execution_count": 53,
   "metadata": {
    "collapsed": false
   },
   "outputs": [
    {
     "name": "stdout",
     "output_type": "stream",
     "text": [
      "Para el par (2,5): \n",
      "Máximo común divisor: 1 \n",
      "Mínimo común múltiple: 10\n",
      "\n",
      "Para el par (4,10): \n",
      "Máximo común divisor: 2 \n",
      "Mínimo común múltiple: 20\n",
      "\n",
      "Para el par (18, 51): \n",
      "Máximo común divisor: 3 \n",
      "Mínimo común múltiple: 306\n"
     ]
    }
   ],
   "source": [
    "par1 = (2,5)\n",
    "par2 = (4,10)\n",
    "par3 = (18,51)\n",
    "\n",
    "mcd1 = gcd(par1)\n",
    "mcm1 = lcm(par1)\n",
    "\n",
    "mcd2 = gcd(par2)\n",
    "mcm2 = lcm(par2)\n",
    "\n",
    "mcd3 = gcd(par3)\n",
    "mcm3 = lcm(par3)\n",
    "\n",
    "print(\"Para el par (2,5):\",\"\\nMáximo común divisor:\", mcd1,\"\\nMínimo común múltiple:\", mcm1)\n",
    "\n",
    "print(\"\\nPara el par (4,10):\",\"\\nMáximo común divisor:\", mcd2 , \"\\nMínimo común múltiple:\", mcm2)\n",
    "\n",
    "print(\"\\nPara el par (18, 51):\",\"\\nMáximo común divisor:\", mcd3,\"\\nMínimo común múltiple:\", mcm3)"
   ]
  },
  {
   "cell_type": "code",
   "execution_count": 0,
   "metadata": {
    "collapsed": false
   },
   "outputs": [
   ],
   "source": [
   ]
  }
 ],
 "metadata": {
  "kernelspec": {
   "argv": [
    "sage-10.1",
    "--python",
    "-m",
    "sage.repl.ipython_kernel",
    "--matplotlib=inline",
    "-f",
    "{connection_file}"
   ],
   "display_name": "SageMath 10.1",
   "env": {
   },
   "language": "sagemath",
   "metadata": {
    "cocalc": {
     "description": "Open-source mathematical software system",
     "priority": 10,
     "url": "https://www.sagemath.org/"
    }
   },
   "name": "sage-10.1",
   "resource_dir": "/ext/jupyter/kernels/sage-10.1"
  },
  "language_info": {
   "codemirror_mode": {
    "name": "ipython",
    "version": 3
   },
   "file_extension": ".py",
   "mimetype": "text/x-python",
   "name": "python",
   "nbconvert_exporter": "python",
   "pygments_lexer": "ipython3",
   "version": "3.11.1"
  }
 },
 "nbformat": 4,
 "nbformat_minor": 4
}